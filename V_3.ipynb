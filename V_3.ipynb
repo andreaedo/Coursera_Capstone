{
  "nbformat": 4,
  "nbformat_minor": 0,
  "metadata": {
    "colab": {
      "name": "Untitled0.ipynb",
      "version": "0.3.2",
      "provenance": [],
      "collapsed_sections": [],
      "include_colab_link": true
    },
    "kernelspec": {
      "name": "python3",
      "display_name": "Python 3"
    }
  },
  "cells": [
    {
      "cell_type": "markdown",
      "metadata": {
        "id": "view-in-github",
        "colab_type": "text"
      },
      "source": [
        "<a href=\"https://colab.research.google.com/github/andreaedo/Coursera_Capstone/blob/master/V_3.ipynb\" target=\"_parent\"><img src=\"https://colab.research.google.com/assets/colab-badge.svg\" alt=\"Open In Colab\"/></a>"
      ]
    },
    {
      "cell_type": "markdown",
      "metadata": {
        "id": "17oCEAhJFy4R",
        "colab_type": "text"
      },
      "source": [
        ""
      ]
    },
    {
      "cell_type": "code",
      "metadata": {
        "id": "tTJLA89pETif",
        "colab_type": "code",
        "colab": {}
      },
      "source": [
        "%matplotlib inline \n",
        "\n",
        "import pandas as pd\n",
        "import matplotlib as mpl\n",
        "import matplotlib.pyplot as plt\n",
        "import numpy as np"
      ],
      "execution_count": 0,
      "outputs": []
    },
    {
      "cell_type": "code",
      "metadata": {
        "id": "fEBkJWM9F22Z",
        "colab_type": "code",
        "outputId": "7738a01d-4add-4385-fddc-8e386f0450f2",
        "colab": {
          "base_uri": "https://localhost:8080/",
          "height": 235
        }
      },
      "source": [
        "pd.read_csv('https://cocl.us/datascience_survey_data',  index_col = 0)"
      ],
      "execution_count": 71,
      "outputs": [
        {
          "output_type": "execute_result",
          "data": {
            "text/html": [
              "<div>\n",
              "<style scoped>\n",
              "    .dataframe tbody tr th:only-of-type {\n",
              "        vertical-align: middle;\n",
              "    }\n",
              "\n",
              "    .dataframe tbody tr th {\n",
              "        vertical-align: top;\n",
              "    }\n",
              "\n",
              "    .dataframe thead th {\n",
              "        text-align: right;\n",
              "    }\n",
              "</style>\n",
              "<table border=\"1\" class=\"dataframe\">\n",
              "  <thead>\n",
              "    <tr style=\"text-align: right;\">\n",
              "      <th></th>\n",
              "      <th>Very interested</th>\n",
              "      <th>Somewhat interested</th>\n",
              "      <th>Not interested</th>\n",
              "    </tr>\n",
              "  </thead>\n",
              "  <tbody>\n",
              "    <tr>\n",
              "      <th>Big Data (Spark / Hadoop)</th>\n",
              "      <td>1332</td>\n",
              "      <td>729</td>\n",
              "      <td>127</td>\n",
              "    </tr>\n",
              "    <tr>\n",
              "      <th>Data Analysis / Statistics</th>\n",
              "      <td>1688</td>\n",
              "      <td>444</td>\n",
              "      <td>60</td>\n",
              "    </tr>\n",
              "    <tr>\n",
              "      <th>Data Journalism</th>\n",
              "      <td>429</td>\n",
              "      <td>1081</td>\n",
              "      <td>610</td>\n",
              "    </tr>\n",
              "    <tr>\n",
              "      <th>Data Visualization</th>\n",
              "      <td>1340</td>\n",
              "      <td>734</td>\n",
              "      <td>102</td>\n",
              "    </tr>\n",
              "    <tr>\n",
              "      <th>Deep Learning</th>\n",
              "      <td>1263</td>\n",
              "      <td>770</td>\n",
              "      <td>136</td>\n",
              "    </tr>\n",
              "    <tr>\n",
              "      <th>Machine Learning</th>\n",
              "      <td>1629</td>\n",
              "      <td>477</td>\n",
              "      <td>74</td>\n",
              "    </tr>\n",
              "  </tbody>\n",
              "</table>\n",
              "</div>"
            ],
            "text/plain": [
              "                            Very interested  ...  Not interested\n",
              "Big Data (Spark / Hadoop)              1332  ...             127\n",
              "Data Analysis / Statistics             1688  ...              60\n",
              "Data Journalism                         429  ...             610\n",
              "Data Visualization                     1340  ...             102\n",
              "Deep Learning                          1263  ...             136\n",
              "Machine Learning                       1629  ...              74\n",
              "\n",
              "[6 rows x 3 columns]"
            ]
          },
          "metadata": {
            "tags": []
          },
          "execution_count": 71
        }
      ]
    },
    {
      "cell_type": "code",
      "metadata": {
        "id": "gJGwWbVa6FyQ",
        "colab_type": "code",
        "colab": {
          "base_uri": "https://localhost:8080/",
          "height": 235
        },
        "outputId": "8942fe68-8270-4f24-fac0-ea36412e6a10"
      },
      "source": [
        "df = pd.read_csv('https://cocl.us/datascience_survey_data',  index_col = 0)\n",
        "\n",
        "df.sort_values(by='Very interested', ascending=False, inplace=True)\n",
        "df['Very interested'] = round(df['Very interested']/2233 * 100,2)\n",
        "df['Somewhat interested'] = round(df['Somewhat interested']/2233 * 100,2)\n",
        "df['Not interested'] = round(df\n",
        "                             ['Not interested']/2233 * 100,2)\n",
        "\n",
        "df\n",
        "# df.head()\n",
        "# df.plot(kind='bar',\n",
        "#         figsize=(20, 8),\n",
        "#         color=['#5cb85c', '#5bc0de', '#d9534f']\n",
        "       \n",
        "#        )\n",
        "\n",
        "# plt.title(\"Percentage of Respondents' Interest in Data Science Areas\")\n",
        "\n",
        "# i=0\n",
        "# for index, row in df.iterrows():\n",
        " \n",
        "#   plt.annotate(row['Very interested'], xy=(i - 0.22, np.round(row['Very interested'], 2)), color=\"red\")\n",
        "#   plt.annotate(row['Somewhat interested'], xy=(i - 0.05, row['Somewhat interested']), color=\"blue\")\n",
        "#   plt.annotate(row['Not interested'], xy=(i + 0.12, row['Not interested']), color=\"black\")\n",
        "#   i = i+1\n",
        "\n",
        "# plt.show()"
      ],
      "execution_count": 94,
      "outputs": [
        {
          "output_type": "execute_result",
          "data": {
            "text/html": [
              "<div>\n",
              "<style scoped>\n",
              "    .dataframe tbody tr th:only-of-type {\n",
              "        vertical-align: middle;\n",
              "    }\n",
              "\n",
              "    .dataframe tbody tr th {\n",
              "        vertical-align: top;\n",
              "    }\n",
              "\n",
              "    .dataframe thead th {\n",
              "        text-align: right;\n",
              "    }\n",
              "</style>\n",
              "<table border=\"1\" class=\"dataframe\">\n",
              "  <thead>\n",
              "    <tr style=\"text-align: right;\">\n",
              "      <th></th>\n",
              "      <th>Very interested</th>\n",
              "      <th>Somewhat interested</th>\n",
              "      <th>Not interested</th>\n",
              "    </tr>\n",
              "  </thead>\n",
              "  <tbody>\n",
              "    <tr>\n",
              "      <th>Data Analysis / Statistics</th>\n",
              "      <td>75.59</td>\n",
              "      <td>19.88</td>\n",
              "      <td>2.69</td>\n",
              "    </tr>\n",
              "    <tr>\n",
              "      <th>Machine Learning</th>\n",
              "      <td>72.95</td>\n",
              "      <td>21.36</td>\n",
              "      <td>3.31</td>\n",
              "    </tr>\n",
              "    <tr>\n",
              "      <th>Data Visualization</th>\n",
              "      <td>60.01</td>\n",
              "      <td>32.87</td>\n",
              "      <td>4.57</td>\n",
              "    </tr>\n",
              "    <tr>\n",
              "      <th>Big Data (Spark / Hadoop)</th>\n",
              "      <td>59.65</td>\n",
              "      <td>32.65</td>\n",
              "      <td>5.69</td>\n",
              "    </tr>\n",
              "    <tr>\n",
              "      <th>Deep Learning</th>\n",
              "      <td>56.56</td>\n",
              "      <td>34.48</td>\n",
              "      <td>6.09</td>\n",
              "    </tr>\n",
              "    <tr>\n",
              "      <th>Data Journalism</th>\n",
              "      <td>19.21</td>\n",
              "      <td>48.41</td>\n",
              "      <td>27.32</td>\n",
              "    </tr>\n",
              "  </tbody>\n",
              "</table>\n",
              "</div>"
            ],
            "text/plain": [
              "                            Very interested  ...  Not interested\n",
              "Data Analysis / Statistics            75.59  ...            2.69\n",
              "Machine Learning                      72.95  ...            3.31\n",
              "Data Visualization                    60.01  ...            4.57\n",
              "Big Data (Spark / Hadoop)             59.65  ...            5.69\n",
              "Deep Learning                         56.56  ...            6.09\n",
              "Data Journalism                       19.21  ...           27.32\n",
              "\n",
              "[6 rows x 3 columns]"
            ]
          },
          "metadata": {
            "tags": []
          },
          "execution_count": 94
        }
      ]
    },
    {
      "cell_type": "code",
      "metadata": {
        "id": "_Ul8DQr_Fuaw",
        "colab_type": "code",
        "colab": {}
      },
      "source": [
        ""
      ],
      "execution_count": 0,
      "outputs": []
    },
    {
      "cell_type": "code",
      "metadata": {
        "id": "n3VzoDgbF-vr",
        "colab_type": "code",
        "colab": {}
      },
      "source": [
        ""
      ],
      "execution_count": 0,
      "outputs": []
    }
  ]
}