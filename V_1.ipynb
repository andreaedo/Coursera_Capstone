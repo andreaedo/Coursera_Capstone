{
  "nbformat": 4,
  "nbformat_minor": 0,
  "metadata": {
    "colab": {
      "name": "Untitled0.ipynb",
      "version": "0.3.2",
      "provenance": [],
      "collapsed_sections": [],
      "include_colab_link": true
    },
    "kernelspec": {
      "name": "python3",
      "display_name": "Python 3"
    }
  },
  "cells": [
    {
      "cell_type": "markdown",
      "metadata": {
        "id": "view-in-github",
        "colab_type": "text"
      },
      "source": [
        "<a href=\"https://colab.research.google.com/github/andreaedo/Coursera_Capstone/blob/master/V_1.ipynb\" target=\"_parent\"><img src=\"https://colab.research.google.com/assets/colab-badge.svg\" alt=\"Open In Colab\"/></a>"
      ]
    },
    {
      "cell_type": "markdown",
      "metadata": {
        "id": "17oCEAhJFy4R",
        "colab_type": "text"
      },
      "source": [
        ""
      ]
    },
    {
      "cell_type": "code",
      "metadata": {
        "id": "tTJLA89pETif",
        "colab_type": "code",
        "colab": {}
      },
      "source": [
        "%matplotlib inline \n",
        "\n",
        "import pandas as pd\n",
        "import matplotlib as mpl\n",
        "import matplotlib.pyplot as plt"
      ],
      "execution_count": 0,
      "outputs": []
    },
    {
      "cell_type": "code",
      "metadata": {
        "id": "fEBkJWM9F22Z",
        "colab_type": "code",
        "outputId": "ec020ba1-9d36-47b2-e612-341fadb36517",
        "colab": {
          "base_uri": "https://localhost:8080/",
          "height": 235
        }
      },
      "source": [
        "pd.read_csv('https://cocl.us/datascience_survey_data',  index_col = 0)"
      ],
      "execution_count": 3,
      "outputs": [
        {
          "output_type": "execute_result",
          "data": {
            "text/html": [
              "<div>\n",
              "<style scoped>\n",
              "    .dataframe tbody tr th:only-of-type {\n",
              "        vertical-align: middle;\n",
              "    }\n",
              "\n",
              "    .dataframe tbody tr th {\n",
              "        vertical-align: top;\n",
              "    }\n",
              "\n",
              "    .dataframe thead th {\n",
              "        text-align: right;\n",
              "    }\n",
              "</style>\n",
              "<table border=\"1\" class=\"dataframe\">\n",
              "  <thead>\n",
              "    <tr style=\"text-align: right;\">\n",
              "      <th></th>\n",
              "      <th>Very interested</th>\n",
              "      <th>Somewhat interested</th>\n",
              "      <th>Not interested</th>\n",
              "    </tr>\n",
              "  </thead>\n",
              "  <tbody>\n",
              "    <tr>\n",
              "      <th>Big Data (Spark / Hadoop)</th>\n",
              "      <td>1332</td>\n",
              "      <td>729</td>\n",
              "      <td>127</td>\n",
              "    </tr>\n",
              "    <tr>\n",
              "      <th>Data Analysis / Statistics</th>\n",
              "      <td>1688</td>\n",
              "      <td>444</td>\n",
              "      <td>60</td>\n",
              "    </tr>\n",
              "    <tr>\n",
              "      <th>Data Journalism</th>\n",
              "      <td>429</td>\n",
              "      <td>1081</td>\n",
              "      <td>610</td>\n",
              "    </tr>\n",
              "    <tr>\n",
              "      <th>Data Visualization</th>\n",
              "      <td>1340</td>\n",
              "      <td>734</td>\n",
              "      <td>102</td>\n",
              "    </tr>\n",
              "    <tr>\n",
              "      <th>Deep Learning</th>\n",
              "      <td>1263</td>\n",
              "      <td>770</td>\n",
              "      <td>136</td>\n",
              "    </tr>\n",
              "    <tr>\n",
              "      <th>Machine Learning</th>\n",
              "      <td>1629</td>\n",
              "      <td>477</td>\n",
              "      <td>74</td>\n",
              "    </tr>\n",
              "  </tbody>\n",
              "</table>\n",
              "</div>"
            ],
            "text/plain": [
              "                            Very interested  ...  Not interested\n",
              "Big Data (Spark / Hadoop)              1332  ...             127\n",
              "Data Analysis / Statistics             1688  ...              60\n",
              "Data Journalism                         429  ...             610\n",
              "Data Visualization                     1340  ...             102\n",
              "Deep Learning                          1263  ...             136\n",
              "Machine Learning                       1629  ...              74\n",
              "\n",
              "[6 rows x 3 columns]"
            ]
          },
          "metadata": {
            "tags": []
          },
          "execution_count": 3
        }
      ]
    },
    {
      "cell_type": "code",
      "metadata": {
        "id": "gJGwWbVa6FyQ",
        "colab_type": "code",
        "colab": {
          "base_uri": "https://localhost:8080/",
          "height": 1000
        },
        "outputId": "fec40073-701b-4ada-8c62-0a1affd34d71"
      },
      "source": [
        "df = pd.read_csv('https://cocl.us/datascience_survey_data',  index_col = 0)\n",
        "df.sort_values(by='Very interested', ascending=False, inplace=True)\n",
        "df.plot(kind='bar',\n",
        "        figsize=(20, 8),\n",
        "        color=['#5cb85c', '#5bc0de', '#d9534f']\n",
        "       )\n",
        "\n",
        "plt.title(\"Percentage of Respondents' Interest in Data Science Areas\")\n",
        "\n",
        "for index, row in df.iterrows():\n",
        "  for value in row:\n",
        "    print(index)\n",
        "    print('--------')\n",
        "    print(value)\n",
        "\n",
        "#   label = value\n",
        "#   plt.annotate(index, xy=(index, 20), color='black')\n",
        "\n",
        "\n",
        "plt.show()"
      ],
      "execution_count": 4,
      "outputs": [
        {
          "output_type": "stream",
          "text": [
            "Data Analysis / Statistics\n",
            "--------\n",
            "1688\n",
            "Data Analysis / Statistics\n",
            "--------\n",
            "444\n",
            "Data Analysis / Statistics\n",
            "--------\n",
            "60\n",
            "Machine Learning\n",
            "--------\n",
            "1629\n",
            "Machine Learning\n",
            "--------\n",
            "477\n",
            "Machine Learning\n",
            "--------\n",
            "74\n",
            "Data Visualization\n",
            "--------\n",
            "1340\n",
            "Data Visualization\n",
            "--------\n",
            "734\n",
            "Data Visualization\n",
            "--------\n",
            "102\n",
            "Big Data (Spark / Hadoop)\n",
            "--------\n",
            "1332\n",
            "Big Data (Spark / Hadoop)\n",
            "--------\n",
            "729\n",
            "Big Data (Spark / Hadoop)\n",
            "--------\n",
            "127\n",
            "Deep Learning\n",
            "--------\n",
            "1263\n",
            "Deep Learning\n",
            "--------\n",
            "770\n",
            "Deep Learning\n",
            "--------\n",
            "136\n",
            "Data Journalism\n",
            "--------\n",
            "429\n",
            "Data Journalism\n",
            "--------\n",
            "1081\n",
            "Data Journalism\n",
            "--------\n",
            "610\n"
          ],
          "name": "stdout"
        },
        {
          "output_type": "display_data",
          "data": {
            "image/png": "[encoded data removed]",
            "text/plain": [
              "<Figure size 1440x576 with 1 Axes>"
            ]
          },
          "metadata": {
            "tags": []
          }
        }
      ]
    },
    {
      "cell_type": "code",
      "metadata": {
        "id": "_Ul8DQr_Fuaw",
        "colab_type": "code",
        "colab": {}
      },
      "source": [
        ""
      ],
      "execution_count": 0,
      "outputs": []
    },
    {
      "cell_type": "code",
      "metadata": {
        "id": "n3VzoDgbF-vr",
        "colab_type": "code",
        "colab": {}
      },
      "source": [
        ""
      ],
      "execution_count": 0,
      "outputs": []
    }
  ]
}